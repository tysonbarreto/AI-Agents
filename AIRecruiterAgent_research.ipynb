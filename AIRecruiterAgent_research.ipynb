{
 "cells": [
  {
   "cell_type": "code",
   "execution_count": 26,
   "metadata": {},
   "outputs": [],
   "source": [
    "import os\n",
    "from typing import TypedDict, Annotated, List\n",
    "from langgraph.graph import StateGraph, END\n",
    "import bs4\n",
    "\n",
    "from langchain_community.document_loaders import WebBaseLoader\n",
    "from langchain_core.messages import HumanMessage, AIMessage\n",
    "from langchain_core.prompts import ChatPromptTemplate, PromptTemplate\n",
    "from langchain_core.runnables.graph import MermaidDrawMethod\n",
    "from langchain_core.output_parsers import JsonOutputParser\n",
    "from IPython.display import display, Image\n",
    "\n",
    "from langchain_groq import ChatGroq\n",
    "from dotenv import load_dotenv, find_dotenv\n",
    "\n",
    "from pprint import pprint"
   ]
  },
  {
   "cell_type": "code",
   "execution_count": 19,
   "metadata": {},
   "outputs": [],
   "source": [
    "llm = ChatGroq(\n",
    "    temperature=0.5,\n",
    "    groq_api_key = os.getenv('GROQ_API_KEY'),\n",
    "    model_name=\"llama-3.3-70b-versatile\"\n",
    ")"
   ]
  },
  {
   "cell_type": "code",
   "execution_count": 20,
   "metadata": {},
   "outputs": [],
   "source": [
    "prompt_extract = PromptTemplate.from_template(\"\"\"\n",
    "        ### SCRAPED TEXT FROM WEBSITE:\n",
    "        {page_data}\n",
    "        ### INSTRUCTION:\n",
    "        The scraped text is from the career's page of a website.\n",
    "        Your job is to extract the job postings and return them in JSON format containing the\n",
    "        following keys: `role`, `experience`, `skills` and `description`.\n",
    "        Only return the valid JSON.\n",
    "        ### VALID JSON (NO PREAMBLE):\n",
    "        \"\"\")"
   ]
  },
  {
   "cell_type": "code",
   "execution_count": 21,
   "metadata": {},
   "outputs": [],
   "source": [
    "loader = WebBaseLoader(web_path=\"https://www.amazon.jobs/en/jobs/2839145/machine-learning-engineer\")"
   ]
  },
  {
   "cell_type": "code",
   "execution_count": 23,
   "metadata": {},
   "outputs": [],
   "source": [
    "page_data = loader.load().pop().page_content"
   ]
  },
  {
   "cell_type": "code",
   "execution_count": 27,
   "metadata": {},
   "outputs": [
    {
     "name": "stdout",
     "output_type": "stream",
     "text": [
      "('Machine Learning Engineer - Job ID: 2839145 | Amazon.jobs\\n'\n",
      " 'Skip to main contentHomeTeamsLocationsJob categoriesMy careerMy '\n",
      " 'applicationsMy profileAccount securitySettingsSign outResourcesDisability '\n",
      " 'accommodationsBenefitsDiversity, equity, and inclusionInterview '\n",
      " 'tipsLeadership principlesWorking at AmazonFAQ×Machine Learning EngineerJob '\n",
      " 'ID: 2839145 | Amazon.com Services LLC - A57Apply nowDESCRIPTIONAre you '\n",
      " 'looking to work at the forefront of Machine Learning and AI? Would you be '\n",
      " 'excited to apply cutting edge Generative AI, ML and DL algorithms to solve '\n",
      " 'real world problems with significant impact? Amazon is revolutionizing '\n",
      " 'customer service yet again now with cutting edge AI and ML. Device, Digital '\n",
      " 'and Alexa Support (D2AS) is responsible for the Customer Service operations '\n",
      " 'and solutions for all Amazon Devices and Digital products, from Kindle and '\n",
      " 'Echo, to Amazon Music and Prime Video. We’re seeking a Machine Learning '\n",
      " 'Engineer to develop cutting-edge AI solutions leveraging Large Language '\n",
      " 'Models (LLM), Machine Learning (ML) and Natural Language Processing (NLP) '\n",
      " \"techniques to understand and resolve customer issues and provide earth's \"\n",
      " 'best customer service. We are looking for individuals with a passion for '\n",
      " 'learning, researching, and deploying production-ready science solutions in a '\n",
      " 'highly collaborative environment. We like to ideate, experiment, iterate, '\n",
      " 'optimize and scale quickly, while thoughtfully balancing speed and '\n",
      " 'quality.Key job responsibilitiesIn this role, you will:- Use ML and '\n",
      " 'Generative AI tools, such as Amazon SageMaker and Amazon Bedrock, to provide '\n",
      " 'a scalable production solutions to improve the customer experience, to label '\n",
      " 'data, build, train, tune and deploy their models.- Collaborate with our '\n",
      " 'Applied and data scientists to create and fine tune scalable ML and '\n",
      " 'Generative AI solutions for business problems.- Interact with product '\n",
      " 'stakeholders directly to understand the business problem, help and aid them '\n",
      " 'in implementation of their ML ecosystem- Analyze and extract relevant '\n",
      " 'information from large amounts of historical data to help automate and '\n",
      " 'optimize key processes.- Work closely with science and engineering teams to '\n",
      " 'drive model implementations and new algorithms.A day in the lifeWe thrive on '\n",
      " 'solving challenging problems to innovate for our customers. By pushing the '\n",
      " 'boundaries of technology, we create unparalleled experiences that enable us '\n",
      " 'to rapidly adapt in a dynamic environment. Our decisions are guided by data, '\n",
      " 'and we collaborate with engineering, science, and product teams to foster an '\n",
      " 'innovative learning environment.If you are not sure that every qualification '\n",
      " \"on the list above describes you exactly, we'd still love to hear from you! \"\n",
      " 'At Amazon, we value people with unique backgrounds, experiences, and '\n",
      " 'skillsets. If you’re passionate about this role and want to make an impact '\n",
      " 'on a global scale, please apply!Benefits summary: Amazon offers a full range '\n",
      " 'of benefits that support you and eligible family members, including domestic '\n",
      " 'partners and their children. Benefits can vary by location, the number of '\n",
      " 'regularly scheduled hours you work, length of employment, and job status '\n",
      " 'such as seasonal or temporary employment. The benefits that generally apply '\n",
      " 'to regular, full-time employees include: 1. Medical, Dental, and Vision '\n",
      " 'Coverage 2. Maternity and Parental Leave Options 3. Paid Time Off (PTO) 4. '\n",
      " '401(k) PlanAbout the teamWe at D2AS strive to make digital experiences '\n",
      " 'effortless for customers. Our goal is to anticipate, evaluate, prevent, and '\n",
      " 'eliminate any effort required from customers. We achieve this by setting the '\n",
      " 'strategy for digital support and accelerating the delivery of seamless '\n",
      " \"support experiences across Amazon's digital products.Our team combines \"\n",
      " 'strategic thinking, technology expertise, and customer experience best '\n",
      " 'practices. This ensures customers can easily get the most value from '\n",
      " \"Amazon's digital offerings. We focus on providing the right support at the \"\n",
      " \"right time, tailored to each customer's needs. By eliminating friction and \"\n",
      " 'making support effortless, we enhance the overall customer experience.BASIC '\n",
      " 'QUALIFICATIONS- 3+ years of non-internship professional software development '\n",
      " 'experience- 2+ years of non-internship design or architecture (design '\n",
      " 'patterns, reliability and scaling) of new and existing systems experience- '\n",
      " 'Experience programming with at least one software programming language- '\n",
      " \"Bachelor's degree in computer science or equivalent- 2+ years of relevant \"\n",
      " 'experience in developing and deploying large scale machine learning or deep '\n",
      " 'learning models and/or systems into production, including batch and '\n",
      " 'real-time data processingPREFERRED QUALIFICATIONS- 3+ years of full software '\n",
      " 'development life cycle, including coding standards, code reviews, source '\n",
      " 'control management, build processes, testing, and operations experience- '\n",
      " 'Masters or PhD degree in computer science, engineering, mathematics, '\n",
      " 'operations research, or in a highly quantitative field- Practical experience '\n",
      " 'in solving complex problems in an applied environment- Experiences related '\n",
      " 'to AWS services such as SageMaker, EMR, S3, DynamoDB and EC2- Experiences '\n",
      " 'related to machine learning, deep learning, NLP, CV, GNN, or distributed '\n",
      " 'training- Strong communication skills, with attention to detail and ability '\n",
      " 'to convey rigorous mathematical concepts and considerations to non-experts- '\n",
      " 'Comfortable working in a fast paced, highly collaborative, dynamic work '\n",
      " 'environmentAmazon is committed to a diverse and inclusive workplace. Amazon '\n",
      " 'is an equal opportunity employer and does not discriminate on the basis of '\n",
      " 'race, national origin, gender, gender identity, sexual orientation, '\n",
      " 'protected veteran status, disability, age, or other legally protected '\n",
      " 'status.Our inclusive culture empowers Amazonians to deliver the best results '\n",
      " 'for our customers. If you have a disability and need a workplace '\n",
      " 'accommodation or adjustment during the application and hiring process, '\n",
      " 'including support for the interview or onboarding process, please visit '\n",
      " 'https://amazon.jobs/content/en/how-we-hire/accommodations for more '\n",
      " 'information. If the country/region you’re applying in isn’t listed, please '\n",
      " 'contact your Recruiting Partner.Our compensation reflects the cost of labor '\n",
      " 'across several US geographic markets. The base pay for this position ranges '\n",
      " 'from $129,300/year in our lowest geographic market up to $223,600/year in '\n",
      " 'our highest geographic market. Pay is based on a number of factors including '\n",
      " 'market location and may vary depending on job-related knowledge, skills, and '\n",
      " 'experience. Amazon is a total compensation company. Dependent on the '\n",
      " 'position offered, equity, sign-on payments, and other forms of compensation '\n",
      " 'may be provided as part of a total compensation package, in addition to a '\n",
      " 'full range of medical, financial, and/or other benefits. For more '\n",
      " 'information,  please visit '\n",
      " 'https://www.aboutamazon.com/workplace/employee-benefits. This position will '\n",
      " 'remain posted until filled. Applicants should apply via our internal or '\n",
      " 'external career site.Job detailsUSA, WA, SeattleMachine Learning '\n",
      " 'ScienceShare this jobJOIN US ONFind CareersJob CategoriesTeamsLocationsUS '\n",
      " 'and EU Military recruitingWarehouse and Hourly JobsWorking At '\n",
      " 'AmazonCultureBenefitsAmazon NewsletterDiversity at AmazonOur leadership '\n",
      " 'principlesHelpFAQInterview tipsReview application statusDisability '\n",
      " 'accommodationsEU background checksAmazon is committed to a diverse and '\n",
      " 'inclusive workplace. Amazon is an equal opportunity employer and does not '\n",
      " 'discriminate on the basis of race, national origin, gender, gender identity, '\n",
      " 'sexual orientation, protected veteran status, disability, age, or other '\n",
      " 'legally protected status.Privacy and DataImpressumCookies© 1996-2025, '\n",
      " 'Amazon.com, Inc. or its affiliates')\n"
     ]
    }
   ],
   "source": [
    "pprint(page_data)"
   ]
  },
  {
   "cell_type": "code",
   "execution_count": 1,
   "metadata": {},
   "outputs": [],
   "source": [
    "import csv\n",
    "from AIEmailPersonalizationAgent.utils import read_yaml_file"
   ]
  },
  {
   "cell_type": "code",
   "execution_count": 2,
   "metadata": {},
   "outputs": [],
   "source": [
    "config_file =read_yaml_file('config.yml')"
   ]
  },
  {
   "cell_type": "code",
   "execution_count": 5,
   "metadata": {},
   "outputs": [
    {
     "name": "stdout",
     "output_type": "stream",
     "text": [
      "Revise the draft email to adopt the following writing style.\n",
      "Writing Style:\n",
      "- Use a more informal, engaging, and slightly sales-oriented tone, mirroring ghost writer's final email communication style. \n",
      "- This approach prioritizes clear, direct communication while maintaining a friendly and approachable tone. \n",
      "- Use straightforward language, including phrases like \"Hey [Name]!\" to start emails or messages. \n",
      "- The tone will be optimistic and encouraging, aiming to build rapport and motivate action, while staying grounded in practical advice.\n",
      "\n",
      "Important Notes:\n",
      "- Do not use emojis.\n"
     ]
    }
   ],
   "source": [
    "print(config_file.crew_email_agent.email_personalizer_task.ghost_write_email)"
   ]
  }
 ],
 "metadata": {
  "kernelspec": {
   "display_name": ".venv",
   "language": "python",
   "name": "python3"
  },
  "language_info": {
   "codemirror_mode": {
    "name": "ipython",
    "version": 3
   },
   "file_extension": ".py",
   "mimetype": "text/x-python",
   "name": "python",
   "nbconvert_exporter": "python",
   "pygments_lexer": "ipython3",
   "version": "3.12.4"
  }
 },
 "nbformat": 4,
 "nbformat_minor": 2
}
