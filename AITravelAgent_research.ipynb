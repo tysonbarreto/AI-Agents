{
 "cells": [
  {
   "cell_type": "code",
   "execution_count": 7,
   "metadata": {},
   "outputs": [],
   "source": [
    "import os\n",
    "from typing import TypedDict, Annotated, List\n",
    "from langgraph.graph import StateGraph, END\n",
    "\n",
    "from langchain_core.messages import HumanMessage, AIMessage\n",
    "from langchain_core.prompts import ChatPromptTemplate\n",
    "from langchain_core.runnables.graph import MermaidDrawMethod\n",
    "from IPython.display import display, Image\n",
    "\n",
    "from langchain_groq import ChatGroq\n",
    "from dotenv import load_dotenv, find_dotenv"
   ]
  },
  {
   "cell_type": "code",
   "execution_count": 3,
   "metadata": {},
   "outputs": [],
   "source": [
    "class PlannerState(TypedDict):\n",
    "    messages: Annotated[List[HumanMessage | AIMessage], \"message in the conversation\"]\n",
    "    city: str\n",
    "    interests: List[str]\n",
    "    itinerary: str"
   ]
  },
  {
   "cell_type": "code",
   "execution_count": 11,
   "metadata": {},
   "outputs": [],
   "source": [
    "llm = ChatGroq(\n",
    "    temperature=0.5,\n",
    "    groq_api_key = os.getenv('GROQ_API_KEY'),\n",
    "    model_name=\"llama-3.3-70b-versatile\"\n",
    ")"
   ]
  },
  {
   "cell_type": "code",
   "execution_count": 37,
   "metadata": {},
   "outputs": [],
   "source": [
    "itinerary_prompt=ChatPromptTemplate.from_messages([\n",
    "    (\"system\",\" Your are a helpful travel assistant. Create a day trip itinerary for {city} based on user's interests: {interests}. Provide a breif bulleted itinerary.\"),\n",
    "    (\"human\", \"Create an itinerary for my day trip.\")\n",
    "])\n"
   ]
  },
  {
   "cell_type": "code",
   "execution_count": 38,
   "metadata": {},
   "outputs": [],
   "source": [
    "def input_city(state:PlannerState)-> PlannerState:\n",
    "    print(\"Please enter the city you want to visit for your day trip: \")\n",
    "    user_message = input(\"Your input: \")\n",
    "    return {\n",
    "        **state,\n",
    "        \"city\":user_message,\n",
    "        \"messages\":state[\"messages\"] + [HumanMessage(content=user_message)]\n",
    "    }"
   ]
  },
  {
   "cell_type": "code",
   "execution_count": 71,
   "metadata": {},
   "outputs": [],
   "source": [
    "def input_interests(state:PlannerState)-> PlannerState:\n",
    "    print(f\"Please enter your interets for your day trip to: {state['city']} (comma-separated):\")\n",
    "    user_message = input(\"Your input: \")\n",
    "    return {\n",
    "        **state,\n",
    "        \"interests\":[interest.strip() for interest in user_message.split(\",\")],\n",
    "        \"messages\":state[\"messages\"] + [HumanMessage(content=user_message)]\n",
    "    }"
   ]
  },
  {
   "cell_type": "code",
   "execution_count": 72,
   "metadata": {},
   "outputs": [],
   "source": [
    "def create_itenerary(state:PlannerState)-> PlannerState:\n",
    "    print(f\"Creating itenerary for {state['city']} based on interests: {\", \".join(state['interests'])}\")\n",
    "    response = llm.invoke(itinerary_prompt.format_messages(city=state['city'], interests= \", \".join(state['interests'])))\n",
    "    print(\"\\nFinal Itinerary: \")\n",
    "    print(response.content)\n",
    "    return {\n",
    "        **state,\n",
    "        \"messages\":state[\"messages\"] + [AIMessage(content=response.content)],\n",
    "        \"itinerary\": response.content\n",
    "    }"
   ]
  },
  {
   "cell_type": "code",
   "execution_count": 73,
   "metadata": {},
   "outputs": [],
   "source": [
    "workflow = StateGraph(PlannerState)\n",
    "\n",
    "workflow.add_node(\"input_city\",input_city)\n",
    "workflow.add_node(\"input_interests\",input_interests)\n",
    "workflow.add_node(\"create_itenerary\",create_itenerary)\n",
    "\n",
    "workflow.set_entry_point(\"input_city\")\n",
    "workflow.add_edge(\"input_city\",\"input_interests\")\n",
    "workflow.add_edge(\"input_interests\",\"create_itenerary\")\n",
    "workflow.add_edge(\"create_itenerary\",END)\n",
    "\n",
    "app = workflow.compile()"
   ]
  },
  {
   "cell_type": "code",
   "execution_count": 74,
   "metadata": {},
   "outputs": [
    {
     "data": {
      "image/png": "[encoded data removed]",
      "text/plain": [
       "<IPython.core.display.Image object>"
      ]
     },
     "metadata": {},
     "output_type": "display_data"
    }
   ],
   "source": [
    "display(\n",
    "    Image(\n",
    "        app.get_graph().draw_mermaid_png(\n",
    "            draw_method=MermaidDrawMethod.API\n",
    "        )\n",
    "    )\n",
    ")"
   ]
  },
  {
   "cell_type": "code",
   "execution_count": 78,
   "metadata": {},
   "outputs": [],
   "source": [
    "def travel_planner(user_request:str):\n",
    "    print(f\"Initial Request: {user_request}\\n\")\n",
    "    state = {\n",
    "        \"messages\": [HumanMessage(content=user_request)],\n",
    "        \"city\": \"\",\n",
    "        \"interests\":[],\n",
    "        \"itinerary\":\"\",\n",
    "    }\n",
    "\n",
    "    for output in app.stream(state):\n",
    "        pass"
   ]
  },
  {
   "cell_type": "code",
   "execution_count": 79,
   "metadata": {},
   "outputs": [
    {
     "name": "stdout",
     "output_type": "stream",
     "text": [
      "Initial Request: I want to plan a day trip\n",
      "\n",
      "Please enter the city you want to visit for your day trip: \n",
      "Please enter your interets for your day trip to: Goa (comma-separated):\n",
      "Creating itenerary for Goa based on interests: Reading, Swmming\n",
      "\n",
      "Final Itinerary: \n",
      "Here's a brief bulleted itinerary for a day trip to Goa, tailored to your interests in reading and swimming:\n",
      "\n",
      "* 9:00 AM - 10:00 AM: Start the day with a relaxing swim at Palolem Beach, known for its tranquil and picturesque surroundings.\n",
      "* 10:30 AM - 12:30 PM: Visit the Goa State Central Library in Panjim, which houses a vast collection of books and offers a peaceful atmosphere for reading.\n",
      "* 1:00 PM - 2:30 PM: Take a break for lunch at a nearby restaurant, and try some local Goan cuisine.\n",
      "* 3:00 PM - 5:00 PM: Head to Miramar Beach, where you can swim and enjoy the sunset while reading a book or simply relaxing.\n",
      "\n",
      "This itinerary provides a mix of swimming, reading, and relaxation, and can be adjusted according to your preferences and pace. Enjoy your day trip to Goa!\n"
     ]
    }
   ],
   "source": [
    "user_request = \"I want to plan a day trip\"\n",
    "travel_planner(user_request)"
   ]
  },
  {
   "cell_type": "code",
   "execution_count": null,
   "metadata": {},
   "outputs": [],
   "source": []
  }
 ],
 "metadata": {
  "kernelspec": {
   "display_name": ".venv",
   "language": "python",
   "name": "python3"
  },
  "language_info": {
   "codemirror_mode": {
    "name": "ipython",
    "version": 3
   },
   "file_extension": ".py",
   "mimetype": "text/x-python",
   "name": "python",
   "nbconvert_exporter": "python",
   "pygments_lexer": "ipython3",
   "version": "3.12.4"
  }
 },
 "nbformat": 4,
 "nbformat_minor": 2
}
